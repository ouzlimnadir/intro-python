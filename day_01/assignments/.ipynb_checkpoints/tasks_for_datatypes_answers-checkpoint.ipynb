{
 "cells": [
  {
   "cell_type": "markdown",
   "id": "a5e6d400",
   "metadata": {},
   "source": [
    "# Datatypes exercises\n",
    "## Exercise 1"
   ]
  },
  {
   "cell_type": "code",
   "execution_count": 1,
   "id": "03abdcb4",
   "metadata": {},
   "outputs": [
    {
     "data": {
      "text/plain": [
       "50.0"
      ]
     },
     "execution_count": 1,
     "metadata": {},
     "output_type": "execute_result"
    }
   ],
   "source": [
    "a = 2\n",
    "b = 3\n",
    "c = 2\n",
    "\n",
    "result = 6 * a**3 - 8 * b**2 / (4 * c) + 11\n",
    "\n",
    "result"
   ]
  },
  {
   "cell_type": "markdown",
   "id": "0bde6163",
   "metadata": {},
   "source": [
    "## Exercise 2"
   ]
  },
  {
   "cell_type": "code",
   "execution_count": 2,
   "id": "65d210f4",
   "metadata": {},
   "outputs": [
    {
     "ename": "AssertionError",
     "evalue": "",
     "output_type": "error",
     "traceback": [
      "\u001b[1;31m---------------------------------------------------------------------------\u001b[0m",
      "\u001b[1;31mAssertionError\u001b[0m                            Traceback (most recent call last)",
      "Cell \u001b[1;32mIn[2], line 1\u001b[0m\n\u001b[1;32m----> 1\u001b[0m \u001b[38;5;28;01massert\u001b[39;00m (\u001b[38;5;241m0.1\u001b[39m \u001b[38;5;241m+\u001b[39m \u001b[38;5;241m0.2\u001b[39m \u001b[38;5;241m==\u001b[39m \u001b[38;5;241m0.3\u001b[39m)\n",
      "\u001b[1;31mAssertionError\u001b[0m: "
     ]
    }
   ],
   "source": [
    "assert (0.1 + 0.2 == 0.3)"
   ]
  },
  {
   "cell_type": "markdown",
   "id": "635b051e",
   "metadata": {},
   "source": [
    "> Erreur de flotement 0.1 + 0.2 == 0.30000000000000004\n",
    "## Exercise 3"
   ]
  },
  {
   "cell_type": "code",
   "execution_count": 17,
   "id": "4ec00621",
   "metadata": {},
   "outputs": [],
   "source": [
    "def sum_list(l):\n",
    "    sum = 0\n",
    "    for i in range(len(l)):\n",
    "        sum += l[i]\n",
    "    return sum    \n",
    "assert sum_list([10,20,-1])"
   ]
  },
  {
   "cell_type": "markdown",
   "id": "70b60360",
   "metadata": {},
   "source": [
    "## Exercise 4"
   ]
  },
  {
   "cell_type": "code",
   "execution_count": 36,
   "id": "70454166",
   "metadata": {},
   "outputs": [
    {
     "name": "stdout",
     "output_type": "stream",
     "text": [
      "Enter 10 km run time (in minutes) or 'q' to quit: 10\n",
      "Enter 10 km run time (in minutes) or 'q' to quit: 20\n",
      "Enter 10 km run time (in minutes) or 'q' to quit: 15\n",
      "Enter 10 km run time (in minutes) or 'q' to quit: q\n",
      "Average of 15.0, over 3 run\n"
     ]
    }
   ],
   "source": [
    "total_time = 0\n",
    "count = 0\n",
    "\n",
    "while True:\n",
    "    user_input = input(\"Enter 10 km run time (in minutes) or 'q' to quit: \")\n",
    "    \n",
    "    if user_input == 'q':\n",
    "        if count > 0:\n",
    "            average_time = total_time / count\n",
    "            print(f\"Average of {average_time:.1f}, over {count} run\")\n",
    "        else:\n",
    "            print(\"No run times entered.\")\n",
    "        break\n",
    "        \n",
    "    try:\n",
    "        run_time = int(user_input)\n",
    "        total_time += run_time\n",
    "        count += 1\n",
    "    except ValueError:\n",
    "        print(\"Invalid input. Please enter a valid time or 'q' to quit.\")\n",
    "        \n",
    "    "
   ]
  },
  {
   "cell_type": "markdown",
   "id": "c069b579",
   "metadata": {},
   "source": [
    "## Exercise 5"
   ]
  },
  {
   "cell_type": "code",
   "execution_count": 50,
   "id": "01983e11",
   "metadata": {},
   "outputs": [],
   "source": [
    "def sort_string(st):\n",
    "    s = list(st)\n",
    "    for i in range(len(s)-1):\n",
    "        for j in range(i,len(s)):\n",
    "            if s[i]>s[j]:\n",
    "                temp = s[i]\n",
    "                s[i] = s[j]\n",
    "                s[j] = temp\n",
    "    # or just do s = s.sort()\n",
    "    final_s = ''.join(s)\n",
    "    return final_s\n",
    "\n",
    "assert sort_string(\"cabaeb\") == \"aabbce\""
   ]
  },
  {
   "cell_type": "markdown",
   "id": "3df2278d",
   "metadata": {},
   "source": [
    "## Exercise 6 "
   ]
  },
  {
   "cell_type": "code",
   "execution_count": 14,
   "id": "784ea983",
   "metadata": {},
   "outputs": [],
   "source": [
    "def wwmrl(words):\n",
    "\n",
    "    max_repeated_letters = 0\n",
    "\n",
    "    # Iterate through each word\n",
    "    for word in words:\n",
    "        letter_count = {}  # Dictionary for counting letters\n",
    "        for letter in word:\n",
    "            if letter.isalpha():\n",
    "                letter_count[letter] = letter_count.get(letter, -1) + 1\n",
    "        \n",
    "        # Find the maximum letter count in the word\n",
    "        max_count = sum(letter_count.values())\n",
    "        # print(word+\" \"+str(max_count))\n",
    "\n",
    "        # Check max\n",
    "        if max_count > max_repeated_letters:\n",
    "            max_repeated_letters = max_count\n",
    "\n",
    "    return max_repeated_letters\n",
    "\n",
    "assert wwmrl([\n",
    "    'this', \n",
    "     'is', \n",
    "     'an', \n",
    "     'elementary', \n",
    "     'test', \n",
    "     'example', \n",
    "     'aabbccddeeff'\n",
    "    ]) == 6"
   ]
  },
  {
   "cell_type": "markdown",
   "id": "2669b7e7",
   "metadata": {},
   "source": [
    "## Exercise 7"
   ]
  },
  {
   "cell_type": "code",
   "execution_count": 18,
   "id": "e94ca28b",
   "metadata": {},
   "outputs": [
    {
     "name": "stdout",
     "output_type": "stream",
     "text": [
      "(1, 2, 3)\n",
      "something\n"
     ]
    }
   ],
   "source": [
    "a_tuple = [(1,2,3),'something']\n",
    "l,s = a_tuple\n",
    "print(l)\n",
    "print(s)"
   ]
  },
  {
   "cell_type": "markdown",
   "id": "2269f299",
   "metadata": {},
   "source": [
    "## Exercise 8"
   ]
  },
  {
   "cell_type": "code",
   "execution_count": 34,
   "id": "a8d9672f",
   "metadata": {},
   "outputs": [
    {
     "name": "stdout",
     "output_type": "stream",
     "text": [
      "[('item1', '12.20'), ('item2', '15.10'), ('item3', '24.5')]\n"
     ]
    }
   ],
   "source": [
    "data = [('item1', '12.20'), ('item2', '15.10'), ('item3', '24.5')]\n",
    "sorted_data = sorted(data, key=lambda x: x[1])\n",
    "print(sorted_data)"
   ]
  },
  {
   "cell_type": "markdown",
   "id": "3338cd2b",
   "metadata": {},
   "source": [
    "## Exercise 9"
   ]
  },
  {
   "cell_type": "code",
   "execution_count": 32,
   "id": "aa508614",
   "metadata": {},
   "outputs": [
    {
     "name": "stdout",
     "output_type": "stream",
     "text": [
      "{1: 10, 2: 20, 3: 30, 4: 40, 5: 50, 6: 60}\n"
     ]
    }
   ],
   "source": [
    "\"\"\"Sample Dictionary\"\"\"\n",
    "dic1={1:10, 2:20}\n",
    "dic2={3:30, 4:40}\n",
    "dic3={5:50,6:60}\n",
    "\n",
    "result = {}\n",
    "result.update(dic1)\n",
    "result.update(dic2)\n",
    "result.update(dic3)\n",
    "\n",
    "print(result)\n",
    "   \n",
    "    "
   ]
  },
  {
   "cell_type": "markdown",
   "id": "6a375a00",
   "metadata": {},
   "source": [
    "## Exercise 10"
   ]
  },
  {
   "cell_type": "code",
   "execution_count": 35,
   "id": "291f1d49",
   "metadata": {},
   "outputs": [
    {
     "name": "stdout",
     "output_type": "stream",
     "text": [
      "{'a': 300, 'b': 200, 'c': 300, 'd': 400}\n"
     ]
    }
   ],
   "source": [
    "d1 = {'a': 100, 'b': 200, 'c':300}\n",
    "d2 = {'a': 300, 'b': 200, 'd':400}\n",
    "\n",
    "output = {}\n",
    "output.update(d1)\n",
    "output.update(d2)\n",
    "print(output)"
   ]
  },
  {
   "cell_type": "markdown",
   "id": "94650fc6",
   "metadata": {},
   "source": [
    "## Exercise 11"
   ]
  },
  {
   "cell_type": "code",
   "execution_count": 77,
   "id": "8b98fa0f",
   "metadata": {},
   "outputs": [
    {
     "name": "stdout",
     "output_type": "stream",
     "text": [
      "AAACCAAA\n"
     ]
    }
   ],
   "source": [
    "def convert_to_palindrome(s):\n",
    "    # Create a dictionary to count the occurrences of each character\n",
    "    char_count = {}\n",
    "    for char in s:\n",
    "        char_count[char] = char_count.get(char, 0) + 1\n",
    "\n",
    "    # Create two lists\n",
    "    les_pairs = []\n",
    "    les_impairs = []\n",
    "\n",
    "    for char, count in char_count.items():\n",
    "        if count % 2 == 0:\n",
    "            les_pairs.extend([char] * (count // 2))\n",
    "        else:\n",
    "            les_impairs.extend([char] * (count // 2))\n",
    "            if len(les_impairs) > 1:\n",
    "                return \"IMPOSSIBLE\"\n",
    "\n",
    "    # Build the palindrome string\n",
    "    palindrome = ''.join(les_pairs)\n",
    "    if les_impairs:\n",
    "        palindrome = palindrome + les_impairs[0] # ::-1 reverse palindrome\n",
    "    palindrome = palindrome + ''.join(les_pairs[::-1])\n",
    "    return palindrome\n",
    "\n",
    "print(convert_to_palindrome('AAAACACBA'))\n",
    "# assert (convert_to_palindrome('AAAACACBA') == 'AACABACAA')\n",
    "# assert (convert_to_palindrome('AAAACACBB') == 'IMPOSSIBLE')"
   ]
  },
  {
   "cell_type": "markdown",
   "id": "7692da59",
   "metadata": {},
   "source": [
    "## Exercise 12"
   ]
  },
  {
   "cell_type": "code",
   "execution_count": 96,
   "id": "0db46bcc",
   "metadata": {},
   "outputs": [],
   "source": [
    "def get_unique_elements(l):\n",
    "    unique_elements = []  \n",
    "    for item in l:\n",
    "        if item not in unique_elements:\n",
    "            unique_elements.append(item)\n",
    "    return unique_elements\n",
    "assert (get_unique_elements([1, 2, 2, 'a', 'a', 'a', 'g', 5]) == [1, 2, 'a', 'g', 5])"
   ]
  },
  {
   "cell_type": "markdown",
   "id": "3b3c22c7",
   "metadata": {},
   "source": [
    "## Exercise 13"
   ]
  },
  {
   "cell_type": "code",
   "execution_count": 97,
   "id": "fe2529c7",
   "metadata": {},
   "outputs": [
    {
     "name": "stdout",
     "output_type": "stream",
     "text": [
      "Enter first int5\n",
      "Enter Second int6\n",
      "Enter symbol**\n",
      "15625\n"
     ]
    }
   ],
   "source": [
    "def sum(a, b):\n",
    "    return a + b\n",
    "def sub(a, b):\n",
    "    return a - b\n",
    "def mul(a, b):\n",
    "    return a * b\n",
    "def div(a, b):\n",
    "    return a / b\n",
    "def pow(a, b):\n",
    "    return a ** b\n",
    "\n",
    "str_to_func = {\n",
    "    '+': sum,\n",
    "    '-': sub,\n",
    "    '*': mul,\n",
    "    '/': div,\n",
    "    '**': pow\n",
    "}\n",
    "n1 = int(input('Enter first int'))\n",
    "n2 = int(input('Enter Second int'))\n",
    "op = input('Enter symbol') #possible symbols are +, -, *, /, **\n",
    "print(str_to_func[op](n1, n2))"
   ]
  },
  {
   "cell_type": "markdown",
   "id": "84e7c6e7",
   "metadata": {},
   "source": [
    "## Exercise 14"
   ]
  },
  {
   "cell_type": "code",
   "execution_count": null,
   "id": "ddfa2d1d",
   "metadata": {},
   "outputs": [],
   "source": [
    "s = \"\"\"Lorem ipsum dolor sit amet consectetur adipisicing elit. Maxime mollitia,\n",
    "molestiae quas vel sint commodi repudiandae consequuntur voluptatum laborum\n",
    "numquam blanditiis harum quisquam eius sed odit fugiat iusto fuga praesentium\n",
    "optio, eaque rerum! Provident similique accusantium nemo autem. Veritatis\n",
    "obcaecati tenetur iure eius earum ut molestias architecto voluptate aliquam\n",
    "nihil, eveniet aliquid culpa officia aut! Impedit sit sunt quaerat, odit,\n",
    "tenetur error, harum nesciunt ipsum debitis quas aliquid. Reprehenderit,\n",
    "quia. Quo neque error repudiandae fuga? Ipsa laudantium molestias eos \n",
    "sapiente officiis modi at sunt excepturi expedita sint? Sed quibusdam\n",
    "recusandae alias error harum maxime adipisci amet laborum. Perspiciatis \n",
    "minima nesciunt dolorem! Officiis iure rerum voluptates a cumque velit \n",
    "quibusdam sed amet tempora. Sit laborum ab, eius fugit doloribus tenetur \n",
    "fugiat, temporibus enim commodi iusto libero magni deleniti quod quam \n",
    "consequuntur! Commodi minima excepturi repudiandae velit hic maxime\n",
    "doloremque. Quaerat provident commodi consectetur veniam similique ad \n",
    "earum omnis ipsum saepe, voluptas, hic voluptates pariatur est explicabo \n",
    "fugiat, dolorum eligendi quam cupiditate excepturi mollitia maiores labore \n",
    "suscipit quas? Nulla, placeat. Voluptatem quaerat non architecto ab laudantium\n",
    "modi minima sunt esse temporibus sint culpa, recusandae aliquam numquam \n",
    "totam ratione voluptas quod exercitationem fuga. Possimus quis earum veniam \n",
    "quasi aliquam eligendi, placeat qui corporis!\n",
    "\"\"\"\n",
    "# store your answer in the variable res\n",
    "assert(res == ['consequuntur', 'Reprehenderit,', 'Perspiciatis', 'consequuntur!', 'exercitationem'])"
   ]
  },
  {
   "cell_type": "markdown",
   "id": "55f3ff30",
   "metadata": {},
   "source": [
    "## Exercise 15"
   ]
  },
  {
   "cell_type": "code",
   "execution_count": null,
   "id": "176c49ce",
   "metadata": {},
   "outputs": [],
   "source": []
  }
 ],
 "metadata": {
  "kernelspec": {
   "display_name": "Python 3 (ipykernel)",
   "language": "python",
   "name": "python3"
  },
  "language_info": {
   "codemirror_mode": {
    "name": "ipython",
    "version": 3
   },
   "file_extension": ".py",
   "mimetype": "text/x-python",
   "name": "python",
   "nbconvert_exporter": "python",
   "pygments_lexer": "ipython3",
   "version": "3.11.4"
  }
 },
 "nbformat": 4,
 "nbformat_minor": 5
}
